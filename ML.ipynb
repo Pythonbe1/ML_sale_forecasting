{
 "cells": [
  {
   "cell_type": "code",
   "execution_count": null,
   "metadata": {},
   "outputs": [],
   "source": [
    "import pandas as pd\n",
    "data=pd.read_csv(r'C:\\Users\\svnduw\\Desktop\\ML\\all_data.csv')"
   ]
  },
  {
   "cell_type": "code",
   "execution_count": null,
   "metadata": {},
   "outputs": [],
   "source": [
    "data['date'] = pd.to_datetime(data['date'])"
   ]
  },
  {
   "cell_type": "code",
   "execution_count": null,
   "metadata": {},
   "outputs": [],
   "source": [
    "data['period']=pd.to_datetime(data['date']).dt.to_period('M')\n"
   ]
  },
  {
   "cell_type": "code",
   "execution_count": null,
   "metadata": {},
   "outputs": [],
   "source": [
    "tobacoo=pd.read_excel(r'C:\\Users\\svnduw\\Desktop\\ML\\umag_report_makenov_barcode_information.xlsx')"
   ]
  },
  {
   "cell_type": "code",
   "execution_count": null,
   "metadata": {},
   "outputs": [],
   "source": [
    "tobacoo_barcode=tobacoo.barcode.tolist()"
   ]
  },
  {
   "cell_type": "code",
   "execution_count": null,
   "metadata": {},
   "outputs": [],
   "source": [
    "len(data)"
   ]
  },
  {
   "cell_type": "code",
   "execution_count": null,
   "metadata": {},
   "outputs": [],
   "source": [
    "data=data[data['barcode'].isin(tobacoo_barcode)]"
   ]
  },
  {
   "cell_type": "code",
   "execution_count": null,
   "metadata": {},
   "outputs": [],
   "source": [
    "len(data)"
   ]
  },
  {
   "cell_type": "code",
   "execution_count": null,
   "metadata": {},
   "outputs": [],
   "source": [
    "new=data.groupby(by=['period','store_id','barcode']).sum()[['product_quantity','total_sale_amount']].reset_index()"
   ]
  },
  {
   "cell_type": "markdown",
   "metadata": {},
   "source": [
    "# Get temperature"
   ]
  },
  {
   "cell_type": "code",
   "execution_count": null,
   "metadata": {},
   "outputs": [],
   "source": [
    "from bs4 import BeautifulSoup\n",
    "from datetime import date\n",
    "from selenium import webdriver\n",
    "from selenium.webdriver.common.keys import Keys\n",
    "import time\n",
    "from selenium.common.exceptions import ElementClickInterceptedException\n",
    "from selenium.common.exceptions import NoSuchElementException\n",
    "import pandas as pd\n",
    "from selenium.webdriver.chrome.options import Options"
   ]
  },
  {
   "cell_type": "code",
   "execution_count": null,
   "metadata": {},
   "outputs": [],
   "source": [
    "options = Options()\n",
    "options.add_argument(\"--disable-notifications\")\n",
    "driver = webdriver.Chrome(executable_path='C:\\\\Users\\\\svnduw\\\\.wdm\\\\drivers\\\\chromedriver\\\\win32\\\\93.0.4577.15\\\\chromedriver.exe', chrome_options=options)\n",
    "driver.get('https://weather.com/weather/monthly/l/fbaf85b9d5c9c522f7fafeb07232ae25af12eb0dd5756a22afd041e7adb97f2f')\n",
    "time.sleep(5)"
   ]
  },
  {
   "cell_type": "code",
   "execution_count": null,
   "metadata": {},
   "outputs": [],
   "source": [
    "l=[8]"
   ]
  },
  {
   "cell_type": "code",
   "execution_count": null,
   "metadata": {},
   "outputs": [],
   "source": [
    "for j in range(len(l)):    \n",
    "    driver.find_element_by_xpath('//*[@id=\"years-picker\"]/option[2]').click()#2020=1,2021=2 in option\n",
    "    driver.find_element_by_xpath('//*[@id=\"month-picker\"]/option['+str(l[j])+']').click()#month\n",
    "    time.sleep(1)\n",
    "    driver.find_element_by_xpath('//*[@id=\"WxuCalendar-main-69bb61a5-2a5f-4a3e-879c-53f37030c238\"]/section/div[2]/nav/div/button/span').click()\n",
    "    time.sleep(5)    \n",
    "    a=[]\n",
    "    for i in range(len(driver.find_elements_by_xpath('//*[@id=\"WxuCalendar-main-69bb61a5-2a5f-4a3e-879c-53f37030c238\"]/section/div[3]/button'))):\n",
    "        a.append(driver.find_element_by_xpath('//*[@id=\"WxuCalendar-main-69bb61a5-2a5f-4a3e-879c-53f37030c238\"]/section/div[3]/button['+str(i+1)+']').text.split('\\n'))\n",
    "    list_name=driver.find_element_by_xpath('//*[@id=\"month-picker\"]/option['+str(l[j])+']').text+' '+driver.find_element_by_xpath('//*[@id=\"years-picker\"]/option[2]').text\n",
    "    f = pd.DataFrame(a,columns =['Day','Day_temperature','Night_temperature'])\n",
    "    writer=pd.ExcelWriter(r\"C:\\Users\\svnduw\\Desktop\\ML\\Temperature_base\\Almaty\\\\\"+list_name+'.xlsx',engine = 'xlsxwriter')\n",
    "    f.to_excel(writer,index=False,sheet_name=list_name)\n",
    "    writer.save()\n",
    "    writer.close()"
   ]
  },
  {
   "cell_type": "markdown",
   "metadata": {},
   "source": [
    "# ###########################################"
   ]
  },
  {
   "cell_type": "code",
   "execution_count": null,
   "metadata": {},
   "outputs": [],
   "source": [
    "from os import listdir\n",
    "from os.path import isfile, join\n",
    "mypath=r'C:\\Users\\svnduw\\Desktop\\ML\\Temperature_base\\Almaty\\checked\\\\'\n",
    "onlyfiles = [f for f in listdir(mypath) if isfile(join(mypath, f))]"
   ]
  },
  {
   "cell_type": "code",
   "execution_count": null,
   "metadata": {},
   "outputs": [],
   "source": [
    "result=pd.DataFrame()\n",
    "for i in onlyfiles:\n",
    "    if i.endswith('.xlsx'):\n",
    "        a=pd.read_excel(r'C:\\Users\\svnduw\\Desktop\\ML\\Temperature_base\\Almaty\\checked\\\\'+i)\n",
    "        a['Day_temperature']=a['Day_temperature'].str.replace('°','')\n",
    "        a['Night_temperature']=a['Night_temperature'].str.replace('°','')\n",
    "        a['Day_temperature']=a['Day_temperature'].astype(int)\n",
    "        a['Night_temperature']=a['Night_temperature'].astype(int)\n",
    "        a['Day_temperature(C)']=(a['Day_temperature']-32)*5//9\n",
    "        a['Night_temperature(C)']=(a['Night_temperature']-32)*5//9\n",
    "        a['source']=i\n",
    "        result=result.append(a,ignore_index=True) \n",
    "        "
   ]
  },
  {
   "cell_type": "code",
   "execution_count": null,
   "metadata": {},
   "outputs": [],
   "source": [
    "result.to_excel(r'C:\\Users\\svnduw\\Desktop\\ML\\Temperature_base\\Almaty\\combined.xlsx',index=False)"
   ]
  },
  {
   "cell_type": "markdown",
   "metadata": {},
   "source": [
    "# ###########################################"
   ]
  },
  {
   "cell_type": "code",
   "execution_count": null,
   "metadata": {},
   "outputs": [],
   "source": [
    "import pandas as pd\n",
    "import numpy as np\n",
    "import datetime\n",
    "\n",
    "result.source=result.source.str.replace('.xlsx','')\n",
    "result[\"Date\"]=result[\"Day\"].astype(str) +' '+result[\"source\"]"
   ]
  },
  {
   "cell_type": "code",
   "execution_count": null,
   "metadata": {},
   "outputs": [],
   "source": [
    "###result=pd.read_csv(r'C:\\Users\\svnduw\\Desktop\\ML\\Final\\result.csv')"
   ]
  },
  {
   "cell_type": "code",
   "execution_count": null,
   "metadata": {},
   "outputs": [],
   "source": [
    "result['Date']=result['Date'].apply(lambda x: datetime.datetime.strptime(x, '%d %b %Y').strftime('%Y-%m-%d'))"
   ]
  },
  {
   "cell_type": "code",
   "execution_count": null,
   "metadata": {},
   "outputs": [],
   "source": [
    "result['period']=pd.to_datetime(result['Date']).dt.to_period('M')"
   ]
  },
  {
   "cell_type": "code",
   "execution_count": null,
   "metadata": {},
   "outputs": [],
   "source": [
    "temp=result.groupby(by=['period']).mean()[['Day_temperature(C)','Night_temperature(C)']].reset_index()"
   ]
  },
  {
   "cell_type": "code",
   "execution_count": null,
   "metadata": {},
   "outputs": [],
   "source": [
    "def reduce_mem_usage(df, verbose=True):\n",
    "    numerics = ['int8', 'int16', 'int32', 'int64', 'float16', 'float32', 'float64']\n",
    "    start_mem = df.memory_usage().sum() / 1024**2\n",
    "    for col in df.columns:\n",
    "        col_type =df[col].dtypes\n",
    "        if col_type in numerics:\n",
    "            c_min = df[col].min()\n",
    "            c_max = df[col].max()\n",
    "            if str(col_type)[:3] == 'int':\n",
    "                if c_min > np.iinfo(np.int8).min and c_max < np.iinfo(np.int8).max:\n",
    "                    df[col] = df[col].astype(np.int8)\n",
    "                elif c_min > np.iinfo(np.int16).min and c_max < np.iinfo(np.int16).max:\n",
    "                    df[col] = df[col].astype(np.int16)\n",
    "                elif c_min > np.iinfo(np.int32).min and c_max < np.iinfo(np.int32).max:\n",
    "                    df[col] = df[col].astype(np.int32)\n",
    "                elif c_min > np.iinfo(np.int64).min and c_max < np.iinfo(np.int64).max:\n",
    "                    df[col] = df[col].astype(np.int64)\n",
    "            else:\n",
    "                if c_min > np.finfo(np.float16).min and c_max < np.finfo(np.float16).max:\n",
    "                    df[col] = df[col].astype(np.float16)\n",
    "                elif c_min > np.finfo(np.float32).min and c_max < np.finfo(np.float32).max:\n",
    "                    df[col] = df[col].astype(np.float32)\n",
    "                elif c_min > np.finfo(np.float64).min and c_max < np.finfo(np.float64).max:\n",
    "                    df[col] = df[col].astype(np.float64)\n",
    "        end_mem = df.memory_usage().sum() / 1024**2\n",
    "    if verbose:\n",
    "        print('Mem. usage decreased to {:5.2f} Mb ({:.1f}% reduction)'.format(end_mem, 100*(start_mem-end_mem)/start_mem))\n",
    "    return df"
   ]
  },
  {
   "cell_type": "code",
   "execution_count": null,
   "metadata": {},
   "outputs": [],
   "source": [
    "data = reduce_mem_usage(data, verbose=True)"
   ]
  },
  {
   "cell_type": "code",
   "execution_count": null,
   "metadata": {},
   "outputs": [],
   "source": [
    "data['date'] = pd.to_datetime(data['date'])"
   ]
  },
  {
   "cell_type": "code",
   "execution_count": null,
   "metadata": {},
   "outputs": [],
   "source": [
    "result['Date']=pd.to_datetime(result['Date'])"
   ]
  },
  {
   "cell_type": "code",
   "execution_count": null,
   "metadata": {},
   "outputs": [],
   "source": [
    "temp"
   ]
  },
  {
   "cell_type": "code",
   "execution_count": null,
   "metadata": {},
   "outputs": [],
   "source": [
    "new.head()"
   ]
  },
  {
   "cell_type": "code",
   "execution_count": null,
   "metadata": {},
   "outputs": [],
   "source": [
    "temp.columns = ['Day', 'day_temperature(C)', 'night_temperature(C)']"
   ]
  },
  {
   "cell_type": "code",
   "execution_count": null,
   "metadata": {},
   "outputs": [],
   "source": [
    "new['day_temperature(C)']=new['period'].map(dict(zip(temp['Day'],temp['day_temperature(C)'])))\n",
    "new['night_temperature(C)']=new['period'].map(dict(zip(temp['Day'],temp['night_temperature(C)'])))\n"
   ]
  },
  {
   "cell_type": "code",
   "execution_count": null,
   "metadata": {},
   "outputs": [],
   "source": [
    "data.drop('month',axis=1,inplace=True)"
   ]
  },
  {
   "cell_type": "code",
   "execution_count": null,
   "metadata": {},
   "outputs": [],
   "source": [
    "data['brand']=data['barcode'].map(dict(zip(tobacoo['barcode'],tobacoo['brand'])))"
   ]
  },
  {
   "cell_type": "code",
   "execution_count": null,
   "metadata": {},
   "outputs": [],
   "source": [
    "holiday_2020=pd.read_excel(r'C:\\Users\\svnduw\\Desktop\\ML\\Holiday\\2020\\holidays_2020.xlsx')\n",
    "holiday_2021=pd.read_excel(r'C:\\Users\\svnduw\\Desktop\\ML\\Holiday\\2021\\holidays_2021.xlsx')"
   ]
  },
  {
   "cell_type": "code",
   "execution_count": null,
   "metadata": {},
   "outputs": [],
   "source": [
    "day_2020=holiday_2020['date'].tolist()\n",
    "day_2021=holiday_2021['date'].tolist()"
   ]
  },
  {
   "cell_type": "code",
   "execution_count": null,
   "metadata": {},
   "outputs": [],
   "source": [
    "day_2020.extend(day_2021)"
   ]
  },
  {
   "cell_type": "code",
   "execution_count": null,
   "metadata": {},
   "outputs": [],
   "source": [
    "temp=data[data['date'].isin(day_2020)]\n",
    "temp2=data[~data['date'].isin(day_2020)]\n",
    "temp['isHoliday']=1\n",
    "temp2['isHoliday']=0\n"
   ]
  },
  {
   "cell_type": "code",
   "execution_count": null,
   "metadata": {},
   "outputs": [],
   "source": [
    "new=temp.append(temp2,ignore_index=True)"
   ]
  },
  {
   "cell_type": "code",
   "execution_count": null,
   "metadata": {},
   "outputs": [],
   "source": [
    "new=new.sort_values(by=['date'])"
   ]
  },
  {
   "cell_type": "code",
   "execution_count": null,
   "metadata": {},
   "outputs": [],
   "source": [
    "result.isHoliday.value_counts()"
   ]
  },
  {
   "cell_type": "code",
   "execution_count": null,
   "metadata": {},
   "outputs": [],
   "source": [
    "result[\"isHoliday\"]=result[\"isHoliday\"].astype(int)"
   ]
  },
  {
   "cell_type": "markdown",
   "metadata": {},
   "source": [
    "# #############################################"
   ]
  },
  {
   "cell_type": "code",
   "execution_count": null,
   "metadata": {},
   "outputs": [],
   "source": [
    "import pandas as pd\n",
    "data_file=pd.read_excel(r'C:\\Users\\svnduw\\Desktop\\ML\\актуализация адресов copy.xlsx')"
   ]
  },
  {
   "cell_type": "code",
   "execution_count": null,
   "metadata": {},
   "outputs": [],
   "source": [
    "data_file=data_file[['Store_Id','Link YandexMap(Сылка от Яндекс Карта )']]"
   ]
  },
  {
   "cell_type": "code",
   "execution_count": null,
   "metadata": {},
   "outputs": [],
   "source": [
    "b=data_file['Store_Id'].tolist()"
   ]
  },
  {
   "cell_type": "code",
   "execution_count": null,
   "metadata": {},
   "outputs": [],
   "source": [
    "found=[]\n",
    "for i in a:\n",
    "    if i in b:\n",
    "        found.append(i)"
   ]
  },
  {
   "cell_type": "code",
   "execution_count": null,
   "metadata": {},
   "outputs": [],
   "source": [
    "url=data_file[data_file['Store_Id'].isin(found)]['Link YandexMap(Сылка от Яндекс Карта )'].tolist()"
   ]
  },
  {
   "cell_type": "code",
   "execution_count": null,
   "metadata": {},
   "outputs": [],
   "source": [
    "url=data_file[data_file['Link YandexMap(Сылка от Яндекс Карта )'].notnull()]['Link YandexMap(Сылка от Яндекс Карта )'].tolist()"
   ]
  },
  {
   "cell_type": "code",
   "execution_count": null,
   "metadata": {},
   "outputs": [],
   "source": [
    "yandex_url=[]\n",
    "for i in url:\n",
    "    if i.startswith('https://yandex.com/maps/') or i.startswith('https://yandex.kz') :\n",
    "        yandex_url.append(i)\n",
    "    "
   ]
  },
  {
   "cell_type": "code",
   "execution_count": null,
   "metadata": {},
   "outputs": [],
   "source": [
    "len(yandex_url)"
   ]
  },
  {
   "cell_type": "code",
   "execution_count": null,
   "metadata": {},
   "outputs": [],
   "source": [
    "from selenium import webdriver\n",
    "from selenium.webdriver.common.keys import Keys\n",
    "import time\n",
    "from selenium.common.exceptions import ElementClickInterceptedException\n",
    "from selenium.common.exceptions import NoSuchElementException\n",
    "driver = webdriver.Chrome(executable_path='C:\\\\Users\\\\svnduw\\\\.wdm\\\\drivers\\\\chromedriver\\\\win32\\\\93.0.4577.15\\\\chromedriver.exe')\n",
    "yandex={}\n",
    "for i in url:\n",
    "    try:\n",
    "        driver.get(i)\n",
    "        time.sleep(1)\n",
    "        y=driver.current_url\n",
    "        if len(y)<100:\n",
    "            y_lon=y.split('?ll=')[1].split('%2C')[0]\n",
    "            y_lat=y.split('?ll=')[1].split('%2C')[1].split('&')[0]\n",
    "            yandex[i]=str(y_lon)+' | '+str(y_lat)+' | '+str(driver.find_element_by_class_name('toponym-card-title-view__description').text)+' | '+str(driver.find_element_by_class_name('card-title-view__title').text)\n",
    "        else:\n",
    "            y_lon=y.split('ll=')[1].split('%2C')[0]\n",
    "            y_lat=y.split('?ll=')[1].split('%2C')[1].split('&')[0]\n",
    "            yandex[i]=str(y_lon)+' | '+str(y_lat)+' | '+str(driver.find_element_by_class_name('toponym-card-title-view__description').text)+' | '+str(driver.find_element_by_class_name('card-title-view__title').text)\n",
    "    except NoSuchElementException:\n",
    "        continue\n",
    "    "
   ]
  },
  {
   "cell_type": "code",
   "execution_count": null,
   "metadata": {},
   "outputs": [],
   "source": [
    "dataframe=pd.DataFrame(yandex.items(),columns=['yandex_link','information'])\n"
   ]
  },
  {
   "cell_type": "code",
   "execution_count": null,
   "metadata": {},
   "outputs": [],
   "source": [
    "dataframe[['lon','lat','location','address']] = dataframe['information'].str.split(\"|\",expand=True)"
   ]
  },
  {
   "cell_type": "code",
   "execution_count": null,
   "metadata": {},
   "outputs": [],
   "source": [
    "dataframe.drop('information',axis=1,inplace=True)"
   ]
  },
  {
   "cell_type": "code",
   "execution_count": null,
   "metadata": {},
   "outputs": [],
   "source": [
    "dataframe['store_id']=dataframe['yandex_link'].map(dict(zip(data_file['Link YandexMap(Сылка от Яндекс Карта )'],data_file['Store_Id'])))"
   ]
  },
  {
   "cell_type": "code",
   "execution_count": null,
   "metadata": {},
   "outputs": [],
   "source": [
    "dataframe.to_excel(r'C:\\Users\\svnduw\\Desktop\\ML\\Address\\address3.xlsx')"
   ]
  },
  {
   "cell_type": "code",
   "execution_count": null,
   "metadata": {},
   "outputs": [],
   "source": [
    "data_file['lon']=data_file['Link YandexMap(Сылка от Яндекс Карта )'].map(dict(zip(dataframe['yandex_link'],dataframe['lon'])))\n",
    "data_file['lat']=data_file['Link YandexMap(Сылка от Яндекс Карта )'].map(dict(zip(dataframe['yandex_link'],dataframe['lat'])))"
   ]
  },
  {
   "cell_type": "markdown",
   "metadata": {},
   "source": [
    "# ######################################"
   ]
  },
  {
   "cell_type": "code",
   "execution_count": null,
   "metadata": {},
   "outputs": [],
   "source": [
    "address=pd.read_excel(r'C:\\Users\\svnduw\\Desktop\\ML\\Address\\address.xlsx')"
   ]
  },
  {
   "cell_type": "code",
   "execution_count": null,
   "metadata": {},
   "outputs": [],
   "source": [
    "new['longitude']=new['store_id'].map(dict(zip(address['store_id'],address['lon'])))\n",
    "new['latitude']=new['store_id'].map(dict(zip(address['store_id'],address['lat'])))"
   ]
  },
  {
   "cell_type": "code",
   "execution_count": null,
   "metadata": {},
   "outputs": [],
   "source": [
    "new['brand']=new['barcode'].map(dict(zip(tobacoo['barcode'],tobacoo['brand'])))"
   ]
  },
  {
   "cell_type": "code",
   "execution_count": null,
   "metadata": {},
   "outputs": [],
   "source": [
    "c=list(new['period'].astype(str).unique())"
   ]
  },
  {
   "cell_type": "code",
   "execution_count": null,
   "metadata": {},
   "outputs": [],
   "source": [
    "c = sorted(c)"
   ]
  },
  {
   "cell_type": "code",
   "execution_count": null,
   "metadata": {},
   "outputs": [],
   "source": [
    "c"
   ]
  },
  {
   "cell_type": "code",
   "execution_count": null,
   "metadata": {},
   "outputs": [],
   "source": [
    "list(range(len(c)))"
   ]
  },
  {
   "cell_type": "code",
   "execution_count": null,
   "metadata": {},
   "outputs": [],
   "source": [
    "d = dict(zip(c, list(range(len(c)))))"
   ]
  },
  {
   "cell_type": "code",
   "execution_count": null,
   "metadata": {},
   "outputs": [],
   "source": [
    "new['num_month']=new['period'].astype(str).map(d)"
   ]
  },
  {
   "cell_type": "code",
   "execution_count": null,
   "metadata": {},
   "outputs": [],
   "source": [
    "new.drop('num_month',axis=1,inplace=True)"
   ]
  },
  {
   "cell_type": "code",
   "execution_count": null,
   "metadata": {},
   "outputs": [],
   "source": [
    "temp=new.groupby(by=['barcode']).mean()[['product_quantity','total_sale_amount']].reset_index()"
   ]
  },
  {
   "cell_type": "code",
   "execution_count": null,
   "metadata": {},
   "outputs": [],
   "source": [
    "new['avg_year_quantity']=new['barcode'].map(dict(zip(temp['barcode'],temp['product_quantity'])))\n",
    "new['avg_year_sale']=new['barcode'].map(dict(zip(temp['barcode'],temp['total_sale_amount'])))"
   ]
  },
  {
   "cell_type": "code",
   "execution_count": null,
   "metadata": {},
   "outputs": [],
   "source": [
    "temp=new[new['longitude'].isnull()]\n",
    "temp2=new[~new['longitude'].isnull()]"
   ]
  },
  {
   "cell_type": "code",
   "execution_count": null,
   "metadata": {},
   "outputs": [],
   "source": [
    "new_address=pd.read_excel(r'C:\\Users\\svnduw\\Desktop\\ML\\Address\\umag_report_makenov_store_information.xlsx')"
   ]
  },
  {
   "cell_type": "code",
   "execution_count": null,
   "metadata": {},
   "outputs": [],
   "source": [
    "new_address=new_address[['store_id','coordinates']]"
   ]
  },
  {
   "cell_type": "code",
   "execution_count": null,
   "metadata": {},
   "outputs": [],
   "source": [
    "new_address['latitude']=new_address['coordinates'].apply(lambda x: x.split(',')[0])\n",
    "new_address['longitude']=new_address['coordinates'].apply(lambda x: x.split(',')[1])"
   ]
  },
  {
   "cell_type": "code",
   "execution_count": null,
   "metadata": {},
   "outputs": [],
   "source": [
    "import re\n",
    "new_address['longitude']=new_address['longitude'].apply(lambda x: re.sub(r\"[\\([{})\\]]\", \"\", x))\n",
    "new_address['latitude']=new_address['latitude'].apply(lambda x: re.sub(r\"[\\([{})\\]]\", \"\", x))"
   ]
  },
  {
   "cell_type": "code",
   "execution_count": null,
   "metadata": {},
   "outputs": [],
   "source": [
    "new_address['longitude']=new_address['longitude'].astype(float)\n",
    "new_address['latitude']=new_address['latitude'].astype(float)"
   ]
  },
  {
   "cell_type": "code",
   "execution_count": null,
   "metadata": {},
   "outputs": [],
   "source": [
    "new_address"
   ]
  },
  {
   "cell_type": "code",
   "execution_count": null,
   "metadata": {},
   "outputs": [],
   "source": [
    "temp['longitude']=temp['store_id'].map(dict(zip(new_address['store_id'],new_address['longitude'])))\n",
    "temp['latitude']=temp['store_id'].map(dict(zip(new_address['store_id'],new_address['latitude'])))"
   ]
  },
  {
   "cell_type": "code",
   "execution_count": null,
   "metadata": {},
   "outputs": [],
   "source": [
    "new3=temp.append(temp2,ignore_index=True).sort_values('period')"
   ]
  },
  {
   "cell_type": "code",
   "execution_count": null,
   "metadata": {},
   "outputs": [],
   "source": [
    "new3['price']=new3['total_sale_amount']/new3['product_quantity']"
   ]
  },
  {
   "cell_type": "code",
   "execution_count": null,
   "metadata": {},
   "outputs": [],
   "source": [
    "new3.columns"
   ]
  },
  {
   "cell_type": "code",
   "execution_count": null,
   "metadata": {},
   "outputs": [],
   "source": [
    "lll=['period', 'store_id', 'barcode','brand', 'product_quantity','price',\n",
    "       'total_sale_amount', 'avg_year_quantity', 'avg_year_sale','day_temperature(C)', 'night_temperature(C)',\n",
    "       'longitude', 'latitude']\n",
    "col=list(new3.columns)\n",
    "t=[]\n",
    "for i in lll:\n",
    "    if i in col:\n",
    "        t.append(i)\n",
    "new3=new3[t]"
   ]
  },
  {
   "cell_type": "code",
   "execution_count": null,
   "metadata": {},
   "outputs": [],
   "source": [
    "new3.to_csv(r'C:\\Users\\svnduw\\Desktop\\ML\\Final\\final.csv')"
   ]
  },
  {
   "cell_type": "code",
   "execution_count": null,
   "metadata": {},
   "outputs": [],
   "source": [
    "holidays_period=pd.read_excel(r'C:\\Users\\svnduw\\Desktop\\ML\\Holiday\\holidays\\holidays_period.xlsx')"
   ]
  },
  {
   "cell_type": "code",
   "execution_count": null,
   "metadata": {},
   "outputs": [],
   "source": [
    "holidays_period['period'] = pd.to_datetime(holidays_period['period'])"
   ]
  },
  {
   "cell_type": "code",
   "execution_count": null,
   "metadata": {},
   "outputs": [],
   "source": [
    "holidays_period['period']=pd.to_datetime(holidays_period['period']).dt.to_period('M')"
   ]
  },
  {
   "cell_type": "code",
   "execution_count": null,
   "metadata": {},
   "outputs": [],
   "source": [
    "new3['holidays']=new3['period'].map(dict(zip(holidays_period['period'],holidays_period['holidays'])))\n",
    "new3['weekdays']=new3['period'].map(dict(zip(holidays_period['period'],holidays_period['weekdays'])))"
   ]
  },
  {
   "cell_type": "code",
   "execution_count": null,
   "metadata": {},
   "outputs": [],
   "source": [
    "new=new3.copy()"
   ]
  },
  {
   "cell_type": "markdown",
   "metadata": {},
   "source": [
    "# ######################################"
   ]
  },
  {
   "cell_type": "code",
   "execution_count": null,
   "metadata": {},
   "outputs": [],
   "source": [
    "%matplotlib inline \n",
    "import matplotlib.pyplot as plt\n",
    "new.hist(bins=50, figsize=(20,15))\n",
    "plt.show()"
   ]
  },
  {
   "cell_type": "code",
   "execution_count": null,
   "metadata": {},
   "outputs": [],
   "source": [
    "corr_matrix = new.corr()\n",
    "corr_matrix[\"total_sale_amount\"].sort_values(ascending=False)"
   ]
  },
  {
   "cell_type": "code",
   "execution_count": null,
   "metadata": {},
   "outputs": [],
   "source": [
    "new.describe().T"
   ]
  },
  {
   "cell_type": "code",
   "execution_count": null,
   "metadata": {},
   "outputs": [],
   "source": [
    "import seaborn as sns\n",
    "plt.figure(figsize=(12,6))\n",
    "sns.distplot(new['barcode'])"
   ]
  },
  {
   "cell_type": "code",
   "execution_count": null,
   "metadata": {},
   "outputs": [],
   "source": [
    "plt.figure(figsize=(15,6))\n",
    "sns.countplot(new['store_id'])"
   ]
  },
  {
   "cell_type": "code",
   "execution_count": null,
   "metadata": {},
   "outputs": [],
   "source": [
    "plt.figure(figsize=(18,6))\n",
    "plt.subplot(1,2,1)\n",
    "sns.histplot(new['store_id'])\n",
    "plt.subplot(1,2,2)\n",
    "sns.histplot(new['barcode'])"
   ]
  },
  {
   "cell_type": "code",
   "execution_count": null,
   "metadata": {},
   "outputs": [],
   "source": [
    "new.head()"
   ]
  },
  {
   "cell_type": "code",
   "execution_count": null,
   "metadata": {},
   "outputs": [],
   "source": [
    "###new[\"body_style_cat\"] = new[\"brand\"].cat.codes\n"
   ]
  },
  {
   "cell_type": "code",
   "execution_count": null,
   "metadata": {},
   "outputs": [],
   "source": [
    "def categorize(table):\n",
    "    table['brand_category']=''\n",
    "    table.loc[table['brand']== 'Bond','brand_category']=0\n",
    "    table.loc[table['brand']== 'Camel','brand_category']=1\n",
    "    table.loc[table['brand']== 'Captain Black','brand_category']=2\n",
    "    table.loc[table['brand']== 'Cigaronne','brand_category']=3\n",
    "    table.loc[table['brand']== 'Corsar','brand_category']=4\n",
    "    table.loc[table['brand']== 'Davidoff','brand_category']=5\n",
    "    table.loc[table['brand']== 'Dunhill','brand_category']=6\n",
    "    table.loc[table['brand']== 'Esse','brand_category']=7\n",
    "    table.loc[table['brand']== 'FAST','brand_category']=8\n",
    "    table.loc[table['brand']== 'FIIT','brand_category']=9\n",
    "    table.loc[table['brand']== 'Glamour','brand_category']=10\n",
    "    table.loc[table['brand']== 'HARVEST','brand_category']=11\n",
    "    table.loc[table['brand']== 'HEETS','brand_category']=12\n",
    "    table.loc[table['brand']== 'IQOS','brand_category']=13\n",
    "    table.loc[table['brand']== 'Jade','brand_category']=14\n",
    "    table.loc[table['brand']== 'Kent','brand_category']=15\n",
    "    table.loc[table['brand']== 'Kiss','brand_category']=16\n",
    "    table.loc[table['brand']== 'L&M','brand_category']=17\n",
    "    table.loc[table['brand']== 'LD','brand_category']=18\n",
    "    table.loc[table['brand']== 'LIL SOLID','brand_category']=19\n",
    "    table.loc[table['brand']== 'Lark','brand_category']=20\n",
    "    table.loc[table['brand']== 'MARLBORO','brand_category']=21\n",
    "    table.loc[table['brand']== 'Marlboro','brand_category']=22\n",
    "    table.loc[table['brand']== 'Muratti','brand_category']=23\n",
    "    table.loc[table['brand']== 'PEPE','brand_category']=24\n",
    "    table.loc[table['brand']== 'Pall Mall','brand_category']=25\n",
    "    table.loc[table['brand']== 'Parliament','brand_category']=26\n",
    "    table.loc[table['brand']== 'Richmond','brand_category']=27\n",
    "    table.loc[table['brand']== 'Rothmans','brand_category']=28\n",
    "    table.loc[table['brand']== 'Sobranie','brand_category']=29\n",
    "    table.loc[table['brand']== 'Sovereign','brand_category']=30\n",
    "    table.loc[table['brand']== 'State Line','brand_category']=31\n",
    "    table.loc[table['brand']== 'Tonino Lamborghini','brand_category']=32\n",
    "    table.loc[table['brand']== 'Vogue','brand_category']=33\n",
    "    table.loc[table['brand']== 'West','brand_category']=34\n",
    "    table.loc[table['brand']== 'Wild Tail','brand_category']=35\n",
    "    table.loc[table['brand']== 'Winston','brand_category']=36\n",
    "    table.loc[table['brand']== 'glo','brand_category']=37\n",
    "    table.loc[table['brand']== 'neo','brand_category']=38\n",
    "    table.loc[table['brand']== 'ДОНСКОЙ ТАБАК ТЁМНЫЙ','brand_category']=39\n",
    "    table.loc[table['brand']== 'КОРОНА','brand_category']=40\n",
    "    table.loc[table['brand']== 'Русский Стиль','brand_category']=41\n",
    "    table.loc[table['brand']== 'ҚАЗАҚСТАН','brand_category']=42\n",
    "    return table    "
   ]
  },
  {
   "cell_type": "code",
   "execution_count": null,
   "metadata": {},
   "outputs": [],
   "source": [
    "#new['period']=pd.to_datetime(new['period'])\n",
    "new['month']=new['period'].dt.month\n",
    "new['year']=new['period'].dt.year\n"
   ]
  },
  {
   "cell_type": "code",
   "execution_count": null,
   "metadata": {},
   "outputs": [],
   "source": [
    "new.columns"
   ]
  },
  {
   "cell_type": "code",
   "execution_count": null,
   "metadata": {},
   "outputs": [],
   "source": [
    "X=new[['store_id','barcode','price','avg_year_quantity','avg_year_sale','day_temperature(C)',\n",
    "      'night_temperature(C)', 'longitude', 'latitude','holidays', 'weekdays', 'brand_category', 'month', 'year']]\n",
    "y=new[['product_quantity','total_sale_amount']]"
   ]
  },
  {
   "cell_type": "code",
   "execution_count": null,
   "metadata": {},
   "outputs": [],
   "source": [
    "from sklearn.neural_network import MLPClassifier\n",
    "from sklearn.model_selection import train_test_split\n",
    "from sklearn.preprocessing import MinMaxScaler\n",
    "from sklearn.preprocessing import StandardScaler\n",
    "X_train,X_test,y_train,y_test=train_test_split(X,y,random_state=1)"
   ]
  },
  {
   "cell_type": "code",
   "execution_count": null,
   "metadata": {},
   "outputs": [],
   "source": [
    "from sklearn.tree import DecisionTreeRegressor\n",
    "dtr = DecisionTreeRegressor()\n",
    "dtr.fit(X_train, y_train)"
   ]
  },
  {
   "cell_type": "code",
   "execution_count": null,
   "metadata": {},
   "outputs": [],
   "source": [
    "dtr.score(X_test,y_test)"
   ]
  },
  {
   "cell_type": "code",
   "execution_count": null,
   "metadata": {},
   "outputs": [],
   "source": [
    "dtr.predict([[2983,46084286,476.842105,8.773520,4314.345439,14.645161,3.225806,71.452870,51.187909,0,9,18,10,2020]])"
   ]
  },
  {
   "cell_type": "code",
   "execution_count": null,
   "metadata": {},
   "outputs": [],
   "source": [
    "y_test.head()"
   ]
  },
  {
   "cell_type": "code",
   "execution_count": null,
   "metadata": {},
   "outputs": [],
   "source": [
    "from sklearn.multioutput import MultiOutputRegressor\n",
    "from sklearn.svm import SVR\n",
    "from sklearn.metrics import mean_squared_error, mean_absolute_error\n",
    "svr = SVR(epsilon=0.2)"
   ]
  },
  {
   "cell_type": "code",
   "execution_count": null,
   "metadata": {},
   "outputs": [],
   "source": [
    "mor = MultiOutputRegressor(svr)"
   ]
  },
  {
   "cell_type": "code",
   "execution_count": null,
   "metadata": {},
   "outputs": [],
   "source": [
    "mor.fit(X_train, y_train)"
   ]
  },
  {
   "cell_type": "code",
   "execution_count": null,
   "metadata": {},
   "outputs": [],
   "source": []
  }
 ],
 "metadata": {
  "kernelspec": {
   "display_name": "Python 3",
   "language": "python",
   "name": "python3"
  },
  "language_info": {
   "codemirror_mode": {
    "name": "ipython",
    "version": 3
   },
   "file_extension": ".py",
   "mimetype": "text/x-python",
   "name": "python",
   "nbconvert_exporter": "python",
   "pygments_lexer": "ipython3",
   "version": "3.8.5"
  }
 },
 "nbformat": 4,
 "nbformat_minor": 4
}
